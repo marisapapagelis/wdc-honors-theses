{
 "cells": [
  {
   "cell_type": "markdown",
   "metadata": {},
   "source": [
    "# Exploring Wellesley College Honors Theses"
   ]
  },
  {
   "cell_type": "markdown",
   "metadata": {},
   "source": [
    "### Notebook (2 of 2) created by Marisa Papagelis and Carmen Chan as part of the Wellesley Data Collective January 2021 Project"
   ]
  },
  {
   "cell_type": "markdown",
   "metadata": {},
   "source": [
    "In this notebook, we will use a dataset of Wellesley College Honors Theses that was created using the Scraping Wellesley College Honors Theses notebook. The data originates from the [Wellesely College Honors Theses Repository](https://repository.wellesley.edu/collections/thesiscollection?display=grid) and consists of the title, department, and year of all Senior Theses in the repository. "
   ]
  },
  {
   "cell_type": "code",
   "execution_count": 13,
   "metadata": {},
   "outputs": [],
   "source": [
    "import json\n",
    "import pandas as pd\n",
    "import numpy as np\n",
    "import matplotlib.pyplot as plt"
   ]
  },
  {
   "cell_type": "code",
   "execution_count": 2,
   "metadata": {},
   "outputs": [],
   "source": [
    "with open ('WellesleyHonorsTheses.json','r') as infile:\n",
    "    theses_dataset = json.load(infile)"
   ]
  },
  {
   "cell_type": "markdown",
   "metadata": {},
   "source": [
    "### Basic Exploration"
   ]
  },
  {
   "cell_type": "markdown",
   "metadata": {},
   "source": [
    "Turn json file into dataframe"
   ]
  },
  {
   "cell_type": "code",
   "execution_count": 9,
   "metadata": {},
   "outputs": [],
   "source": [
    "theses_df = pd.read_json('WellesleyHonorsTheses.json')"
   ]
  },
  {
   "cell_type": "code",
   "execution_count": 11,
   "metadata": {},
   "outputs": [],
   "source": [
    "theses_df.columns = [\"Year\", \"Department\", \"Title\"]"
   ]
  },
  {
   "cell_type": "code",
   "execution_count": 12,
   "metadata": {},
   "outputs": [
    {
     "data": {
      "text/html": [
       "<div>\n",
       "<style scoped>\n",
       "    .dataframe tbody tr th:only-of-type {\n",
       "        vertical-align: middle;\n",
       "    }\n",
       "\n",
       "    .dataframe tbody tr th {\n",
       "        vertical-align: top;\n",
       "    }\n",
       "\n",
       "    .dataframe thead th {\n",
       "        text-align: right;\n",
       "    }\n",
       "</style>\n",
       "<table border=\"1\" class=\"dataframe\">\n",
       "  <thead>\n",
       "    <tr style=\"text-align: right;\">\n",
       "      <th></th>\n",
       "      <th>Year</th>\n",
       "      <th>Department</th>\n",
       "      <th>Title</th>\n",
       "    </tr>\n",
       "  </thead>\n",
       "  <tbody>\n",
       "    <tr>\n",
       "      <th>0</th>\n",
       "      <td>2015</td>\n",
       "      <td>Psychology</td>\n",
       "      <td>Unilateral Friendship Outcomes and Preschool F...</td>\n",
       "    </tr>\n",
       "    <tr>\n",
       "      <th>1</th>\n",
       "      <td>2015</td>\n",
       "      <td>Biological Sciences</td>\n",
       "      <td>Beyond Prosthetics: the First Steps Towards Id...</td>\n",
       "    </tr>\n",
       "    <tr>\n",
       "      <th>2</th>\n",
       "      <td>2015</td>\n",
       "      <td>Political Science</td>\n",
       "      <td>Filling Political Spaces: Iraqi, Humanitarian-...</td>\n",
       "    </tr>\n",
       "    <tr>\n",
       "      <th>3</th>\n",
       "      <td>2015</td>\n",
       "      <td>English</td>\n",
       "      <td>True Fiction: Three Writers' Approaches to Fac...</td>\n",
       "    </tr>\n",
       "    <tr>\n",
       "      <th>4</th>\n",
       "      <td>2015</td>\n",
       "      <td>East Asian Languages and Literatures</td>\n",
       "      <td>The Making of a Mountain: Mount Fuji, Miniatur...</td>\n",
       "    </tr>\n",
       "    <tr>\n",
       "      <th>...</th>\n",
       "      <td>...</td>\n",
       "      <td>...</td>\n",
       "      <td>...</td>\n",
       "    </tr>\n",
       "    <tr>\n",
       "      <th>675</th>\n",
       "      <td>2015</td>\n",
       "      <td>Cinema and Media Studies</td>\n",
       "      <td>Kino: CAMS Production Honors Thesis</td>\n",
       "    </tr>\n",
       "    <tr>\n",
       "      <th>676</th>\n",
       "      <td>2015</td>\n",
       "      <td>American Studies</td>\n",
       "      <td>Finding Their Sphere: Feminist Communication i...</td>\n",
       "    </tr>\n",
       "    <tr>\n",
       "      <th>677</th>\n",
       "      <td>2015</td>\n",
       "      <td>International Relations, Political Science</td>\n",
       "      <td>China's Soft Power in the Arab World through H...</td>\n",
       "    </tr>\n",
       "    <tr>\n",
       "      <th>678</th>\n",
       "      <td>2015</td>\n",
       "      <td>Computer Science</td>\n",
       "      <td>Privacy Implications of New York City's Stop-a...</td>\n",
       "    </tr>\n",
       "    <tr>\n",
       "      <th>679</th>\n",
       "      <td>2015</td>\n",
       "      <td>English</td>\n",
       "      <td>The Allincluding Language of Ulysses</td>\n",
       "    </tr>\n",
       "  </tbody>\n",
       "</table>\n",
       "<p>680 rows × 3 columns</p>\n",
       "</div>"
      ],
      "text/plain": [
       "     Year                                  Department  \\\n",
       "0    2015                                  Psychology   \n",
       "1    2015                         Biological Sciences   \n",
       "2    2015                           Political Science   \n",
       "3    2015                                     English   \n",
       "4    2015        East Asian Languages and Literatures   \n",
       "..    ...                                         ...   \n",
       "675  2015                    Cinema and Media Studies   \n",
       "676  2015                            American Studies   \n",
       "677  2015  International Relations, Political Science   \n",
       "678  2015                            Computer Science   \n",
       "679  2015                                     English   \n",
       "\n",
       "                                                 Title  \n",
       "0    Unilateral Friendship Outcomes and Preschool F...  \n",
       "1    Beyond Prosthetics: the First Steps Towards Id...  \n",
       "2    Filling Political Spaces: Iraqi, Humanitarian-...  \n",
       "3    True Fiction: Three Writers' Approaches to Fac...  \n",
       "4    The Making of a Mountain: Mount Fuji, Miniatur...  \n",
       "..                                                 ...  \n",
       "675                Kino: CAMS Production Honors Thesis  \n",
       "676  Finding Their Sphere: Feminist Communication i...  \n",
       "677  China's Soft Power in the Arab World through H...  \n",
       "678  Privacy Implications of New York City's Stop-a...  \n",
       "679               The Allincluding Language of Ulysses  \n",
       "\n",
       "[680 rows x 3 columns]"
      ]
     },
     "execution_count": 12,
     "metadata": {},
     "output_type": "execute_result"
    }
   ],
   "source": [
    "theses_df #view data frame"
   ]
  },
  {
   "cell_type": "markdown",
   "metadata": {},
   "source": [
    "Look at unique years and depts "
   ]
  },
  {
   "cell_type": "code",
   "execution_count": 20,
   "metadata": {},
   "outputs": [
    {
     "data": {
      "text/plain": [
       "array([2015])"
      ]
     },
     "execution_count": 20,
     "metadata": {},
     "output_type": "execute_result"
    }
   ],
   "source": [
    "allYears = theses_df.Year.unique() #can tell from this that the data wasnt scraped accurately\n",
    "allYears"
   ]
  },
  {
   "cell_type": "code",
   "execution_count": 21,
   "metadata": {},
   "outputs": [
    {
     "data": {
      "text/plain": [
       "array(['Psychology', 'Biological Sciences', 'Political Science',\n",
       "       'English', 'East Asian Languages and Literatures', 'Art',\n",
       "       'Media Arts and Sciences', 'Chemistry', 'Classical Studies',\n",
       "       'Medieval and Renaissance Studies', 'Astrophysics', 'Economics',\n",
       "       'Cinema and Media Studies', 'American Studies',\n",
       "       'International Relations, Political Science', 'Computer Science'],\n",
       "      dtype=object)"
      ]
     },
     "execution_count": 21,
     "metadata": {},
     "output_type": "execute_result"
    }
   ],
   "source": [
    "allDepts = theses_df.Department.unique()\n",
    "allDepts"
   ]
  },
  {
   "cell_type": "code",
   "execution_count": null,
   "metadata": {},
   "outputs": [],
   "source": []
  },
  {
   "cell_type": "code",
   "execution_count": null,
   "metadata": {},
   "outputs": [],
   "source": []
  }
 ],
 "metadata": {
  "kernelspec": {
   "display_name": "Python 3",
   "language": "python",
   "name": "python3"
  },
  "language_info": {
   "codemirror_mode": {
    "name": "ipython",
    "version": 3
   },
   "file_extension": ".py",
   "mimetype": "text/x-python",
   "name": "python",
   "nbconvert_exporter": "python",
   "pygments_lexer": "ipython3",
   "version": "3.8.3"
  }
 },
 "nbformat": 4,
 "nbformat_minor": 4
}
